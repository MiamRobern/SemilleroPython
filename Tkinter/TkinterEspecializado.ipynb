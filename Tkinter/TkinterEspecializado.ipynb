{
 "cells": [
  {
   "cell_type": "markdown",
   "metadata": {
    "nbpresent": {
     "id": "576fe5bb-1183-416e-9ea5-63cac6f265e5"
    }
   },
   "source": [
    "## Menús ##\n",
    "En el notebook anterior aprendimos a crear una ventana en **Tkinter** con la que defendernos. Dicha ventana cumplía su propósito, ser funcional; sin embargo, ahora nos enfocaremos en hacer ventanas estéticas y amigables. Aprenderemos a hacer un menú en una ventana."
   ]
  },
  {
   "cell_type": "code",
   "execution_count": null,
   "metadata": {
    "collapsed": true,
    "nbpresent": {
     "id": "27e936e7-3b5a-4f8a-a800-608617cd166f"
    }
   },
   "outputs": [],
   "source": [
    "try:\n",
    "    import Tkinter as tk\n",
    "except ImportError:\n",
    "    try:\n",
    "        import tkinter as tk\n",
    "    except ImportError:\n",
    "        print(\"Usted no ha instalado Tkinter, instálelo e intente de nuevo.\")"
   ]
  },
  {
   "cell_type": "code",
   "execution_count": null,
   "metadata": {
    "collapsed": true,
    "nbpresent": {
     "id": "d02e6ffb-2cd2-4baa-a2bd-d00774fa5770"
    }
   },
   "outputs": [],
   "source": [
    "root=tk.Tk() # Creamos nuestra ventana\n",
    "\n",
    "menubar = tk.Menu(root) # Creamos el menú\n",
    "#A continuación crearemos una cascada en el menú\n",
    "cascade = tk.Menu(menubar, tearoff=0) #Creo otro menú que va a guardar los comandos\n",
    "cascade.add_command(label=\"Abrir\") \n",
    "cascade.add_command(label=\"Guardar\")\n",
    "cascade.add_separator() #Añado un separador\n",
    "cascade.add_command(label=\"Cerrar\") #Añado los comandos al menú que acabo\n",
    "menubar.add_cascade(label=\"Archivo\", menu=cascade) # de crear y pongo el submenú en el menú\n",
    "\n",
    "#A continuación hago una doble cascada.\n",
    "cascade2= tk.Menu(menubar, tearoff=0)\n",
    "cascade3= tk.Menu(cascade2, tearoff=0)\n",
    "cascade3.add_command(label=\"Imprimir Hola Mundo!\")\n",
    "cascade3.add_command(label=\"Imprimir Adiós Mundo!\")\n",
    "cascade2.add_cascade(label=\"Imprimir en la ventana\", menu=cascade3)\n",
    "menubar.add_cascade(label=\"Editar\", menu=cascade2)\n",
    "\n",
    "root.config(menu=menubar) #Le asignamos a nuestra ventana su respectivo menú\n",
    "root.mainloop() #Mostramos la ventana"
   ]
  },
  {
   "cell_type": "markdown",
   "metadata": {},
   "source": [
    "Para añadir comandos específicos al seleccionar algún `command` del menú, basta con poner el `kwarg` `command=` a la función que uno desea ejecutar al momento de seleccionar el \"botón\"."
   ]
  },
  {
   "cell_type": "markdown",
   "metadata": {},
   "source": [
    "## Abrir archivos ##\n",
    "**Tkinter** cuenta con una ventana específica dedicada a abrir archivos. Dicha ventana es muy sencilla de usar, como se muestra a continuación."
   ]
  },
  {
   "cell_type": "code",
   "execution_count": null,
   "metadata": {
    "collapsed": false
   },
   "outputs": [],
   "source": [
    "#Debemos importar lo siguiente, dependiendo de la versión de Python\n",
    "try:\n",
    "    from tkinter.filedialog import askopenfilename #Python 3.X\n",
    "except:\n",
    "    from tkFileDialog import askopenfilename #Python 2.X\n",
    "def selectFile():\n",
    "        filename = askopenfilename() #obtenemos el path, más no el\n",
    "        f=open(filename) # archivo en sí, por eso toca abrirlo\n",
    "        print(f.read())\n",
    "        f.close()\n",
    "\n",
    "root = tk.Tk()\n",
    "\n",
    "tk.Label(root, text=\"Oprima este botón para mostrar el raw del archivo que seleccione en la consola\").grid()\n",
    "tk.Button(root, text=\"Oprímame\", command=selectFile).grid()\n",
    "\n",
    "root.mainloop()"
   ]
  },
  {
   "cell_type": "markdown",
   "metadata": {
    "collapsed": true
   },
   "source": [
    "El comando\n",
    "```python\n",
    "filename = filedialog.askopenfilename()\n",
    "```\n",
    "sirve para obtener el camino que hay hacia el archivo que seleccionemos. Si deseamos obtener el objeto archivo de una vez, debemos usar el comando\n",
    "```python\n",
    "filename = filedialog.askopenfile()\n",
    "```"
   ]
  }
 ],
 "metadata": {
  "anaconda-cloud": {},
  "kernelspec": {
   "display_name": "Python [Root]",
   "language": "python",
   "name": "Python [Root]"
  },
  "language_info": {
   "codemirror_mode": {
    "name": "ipython",
    "version": 3
   },
   "file_extension": ".py",
   "mimetype": "text/x-python",
   "name": "python",
   "nbconvert_exporter": "python",
   "pygments_lexer": "ipython3",
   "version": "3.5.2"
  },
  "nbpresent": {
   "slides": {
    "464007eb-bade-4ef3-9edf-86cbe53c6304": {
     "id": "464007eb-bade-4ef3-9edf-86cbe53c6304",
     "prev": "a7a6f80d-b4ed-4fad-a270-eb36a385857f",
     "regions": {
      "be4226f8-3160-4f59-945c-ae8e1ec7a3b6": {
       "attrs": {
        "height": 1,
        "width": 1,
        "x": 0,
        "y": 0
       },
       "content": {
        "cell": "d02e6ffb-2cd2-4baa-a2bd-d00774fa5770",
        "part": "source"
       },
       "id": "be4226f8-3160-4f59-945c-ae8e1ec7a3b6"
      }
     }
    },
    "a7a6f80d-b4ed-4fad-a270-eb36a385857f": {
     "id": "a7a6f80d-b4ed-4fad-a270-eb36a385857f",
     "prev": "db203548-8deb-450b-81f0-a46c59c2d5b2",
     "regions": {
      "0f6e3cd3-f35c-4ce3-8490-621766680495": {
       "attrs": {
        "height": 1,
        "width": 1,
        "x": 0,
        "y": 0
       },
       "content": {
        "cell": "27e936e7-3b5a-4f8a-a800-608617cd166f",
        "part": "source"
       },
       "id": "0f6e3cd3-f35c-4ce3-8490-621766680495"
      }
     }
    },
    "db203548-8deb-450b-81f0-a46c59c2d5b2": {
     "id": "db203548-8deb-450b-81f0-a46c59c2d5b2",
     "prev": null,
     "regions": {
      "e8b3f029-c6a5-4e50-a207-b1d7d2e31765": {
       "attrs": {
        "height": 1,
        "width": 1,
        "x": 0,
        "y": 0
       },
       "content": {
        "cell": "576fe5bb-1183-416e-9ea5-63cac6f265e5",
        "part": "source"
       },
       "id": "e8b3f029-c6a5-4e50-a207-b1d7d2e31765"
      }
     }
    }
   },
   "themes": {
    "default": "41e66a06-47df-4686-9c6f-4b32cee60c1c",
    "theme": {
     "41e66a06-47df-4686-9c6f-4b32cee60c1c": {
      "backgrounds": {
       "backgroundColor": {
        "background-color": "backgroundColor",
        "id": "backgroundColor"
       }
      },
      "id": "41e66a06-47df-4686-9c6f-4b32cee60c1c",
      "palette": {
       "backgroundColor": {
        "id": "backgroundColor",
        "rgb": [
         43,
         43,
         43
        ]
       },
       "headingColor": {
        "id": "headingColor",
        "rgb": [
         238,
         238,
         238
        ]
       },
       "linkColor": {
        "id": "linkColor",
        "rgb": [
         19,
         218,
         236
        ]
       },
       "mainColor": {
        "id": "mainColor",
        "rgb": [
         238,
         238,
         238
        ]
       }
      },
      "rules": {
       "a": {
        "color": "linkColor"
       },
       "h1": {
        "color": "headingColor",
        "font-family": "Oswald",
        "font-size": 7
       },
       "h2": {
        "color": "headingColor",
        "font-family": "Oswald",
        "font-size": 5
       },
       "h3": {
        "color": "headingColor",
        "font-family": "Oswald",
        "font-size": 3.75
       },
       "h4": {
        "color": "headingColor",
        "font-family": "Oswald",
        "font-size": 3
       },
       "h5": {
        "color": "headingColor",
        "font-family": "Oswald"
       },
       "h6": {
        "color": "headingColor",
        "font-family": "Oswald"
       },
       "h7": {
        "color": "headingColor",
        "font-family": "Oswald"
       },
       "li": {
        "color": "mainColor",
        "font-family": "Lato",
        "font-size": 5
       },
       "p": {
        "color": "mainColor",
        "font-family": "Lato",
        "font-size": 5
       }
      },
      "text-base": {
       "color": "mainColor",
       "font-family": "Lato",
       "font-size": 5
      }
     },
     "9a169681-b8af-4b85-b0b1-c2989c0d8b99": {
      "backgrounds": {
       "backgroundColor": {
        "background-color": "backgroundColor",
        "id": "backgroundColor"
       }
      },
      "id": "9a169681-b8af-4b85-b0b1-c2989c0d8b99",
      "palette": {
       "backgroundColor": {
        "id": "backgroundColor",
        "rgb": [
         240,
         241,
         235
        ]
       },
       "headingColor": {
        "id": "headingColor",
        "rgb": [
         56,
         61,
         61
        ]
       },
       "linkColor": {
        "id": "linkColor",
        "rgb": [
         81,
         72,
         61
        ]
       },
       "mainColor": {
        "id": "mainColor",
        "rgb": [
         0,
         0,
         0
        ]
       }
      },
      "rules": {
       "a": {
        "color": "linkColor"
       },
       "h1": {
        "color": "headingColor",
        "font-family": "EB Garamond",
        "font-size": 7
       },
       "h2": {
        "color": "headingColor",
        "font-family": "EB Garamond",
        "font-size": 5
       },
       "h3": {
        "color": "headingColor",
        "font-family": "EB Garamond",
        "font-size": 3.75
       },
       "h4": {
        "color": "headingColor",
        "font-family": "EB Garamond",
        "font-size": 3
       },
       "h5": {
        "color": "headingColor",
        "font-family": "EB Garamond"
       },
       "h6": {
        "color": "headingColor",
        "font-family": "EB Garamond"
       },
       "h7": {
        "color": "headingColor",
        "font-family": "EB Garamond"
       },
       "li": {
        "color": "mainColor",
        "font-family": "EB Garamond",
        "font-size": 5
       },
       "p": {
        "color": "mainColor",
        "font-family": "EB Garamond",
        "font-size": 5
       }
      },
      "text-base": {
       "color": "mainColor",
       "font-family": "EB Garamond",
       "font-size": 5
      }
     }
    }
   }
  }
 },
 "nbformat": 4,
 "nbformat_minor": 0
}
