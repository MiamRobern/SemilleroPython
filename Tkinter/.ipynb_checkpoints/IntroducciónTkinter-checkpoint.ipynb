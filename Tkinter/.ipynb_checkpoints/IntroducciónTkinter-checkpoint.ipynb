{
 "cells": [
  {
   "cell_type": "markdown",
   "metadata": {},
   "source": [
    "# Interfaces Gráficas (UI) #\n",
    "## User Interface ##\n",
    "La mayoría de programas desarrollados por científicos no tienen por objetivo tener implementado un sinfín de opciones, ni suponer que el usuario es un newbie, por lo que no se debería pensar *a priori* en interfaces gráficas; este tipo de programas tiende a ser más metódico, buscando el fin por encima de la interacción usuario-máquina.\n",
    "\n",
    "En algunos casos suele ser útil hacer interfaces gráficas, como cuando se dispone de muchas opciones y se desea controlar plenamente cada una de ellas; o simplemente cuando se desea derrochar virtuosismo."
   ]
  },
  {
   "cell_type": "markdown",
   "metadata": {},
   "source": [
    "### Tkinter ###\n",
    "Esta librería es la más famosa para hacer este tipo de cosas en Python. A continuación veremos cómo crear una ventana simple."
   ]
  },
  {
   "cell_type": "code",
   "execution_count": null,
   "metadata": {
    "collapsed": false
   },
   "outputs": [],
   "source": [
    "# En este bloque estoy importando la ventana dependiendo de la versión de Python\n",
    "# de su computador.\n",
    "try:\n",
    "    import Tkinter as tk\n",
    "except ImportError:\n",
    "    try:\n",
    "        import tkinter as tk\n",
    "    except ImportError:\n",
    "        print(\"Usted no ha instalado Tkinter, instálelo e intente de nuevo.\")"
   ]
  },
  {
   "cell_type": "code",
   "execution_count": null,
   "metadata": {
    "collapsed": false
   },
   "outputs": [],
   "source": [
    "root= tk.Tk() # Este método crea una ventana\n",
    "root.title(\"Mi Primera Ventana\") #Le coloco un título a nuestra ventana\n",
    "tk.Label(root, text=\"Hello World!\").grid(row=0, column=0)\n",
    "root.geometry('{}x{}'.format(500, 500)) #Tamaño de mi ventana en pixeles (anchoXalto)\n",
    "root.mainloop() # Muestro mi ventana"
   ]
  },
  {
   "cell_type": "markdown",
   "metadata": {},
   "source": [
    "La tercera línea del código anterior hace referencia a un objeto tipo Label\n",
    "```python\n",
    "tk.Label(root, text=\"whatever\")\n",
    "```\n",
    "`root` indica cuál es la ventana (padre) que va a contener el objeto, y `text=anyString` es el texto que se va a mostrar cuando se coloque este objeto en la ventana. Sin embargo, no es suficiente asignar como padre una ventana, se debe especificar la posición en la que se desea el objeto; para ello se usa el método\n",
    "\n",
    "```python\n",
    "grid(row=x, column=y)\n",
    "```\n",
    "contenido en todos los objetos que se pueden colocar en las ventanas. Como se imaginará, se hace una equivalencia con una matriz, ubicando los objetos en una grilla bidimensional; como si de una matriz se tratase (para ésto se usan los *kwargs* *row* y *column*)."
   ]
  },
  {
   "cell_type": "markdown",
   "metadata": {},
   "source": [
    "### Botones ###\n",
    "Ahora aprenderemos a ejecutar una acción presionando un botón mediante una función preestablecida."
   ]
  },
  {
   "cell_type": "code",
   "execution_count": null,
   "metadata": {
    "collapsed": false
   },
   "outputs": [],
   "source": [
    "#Primero creemos la función\n",
    "def printSomething():\n",
    "    print(\"¡Acabas de presionar el botón!\")\n",
    "\n",
    "root=tk.Tk()\n",
    "root.geometry('{}x{}'.format(500, 500))\n",
    "root.title(\"Tutorial de botones\")\n",
    "tk.Label(root, text=\"Aquí hay un botón --> \").grid(row=0, column=0)\n",
    "tk.Button(root, text=\"Presióname\", command=printSomething).grid(row=0, column=1)\n",
    "root.mainloop()"
   ]
  },
  {
   "cell_type": "markdown",
   "metadata": {},
   "source": [
    "El objeto *Button*, de manera similar a *Label*, necesita un padre y una *String* para colocar en el botón. Además necesita un comando, introducido con el *kwarg* `command`. Al colocarla aquí no se debe llamar la función, pues el presionar el botón lo hace (es decir, hay que abstenerse de invocarla (colocar los () )). Si uno tiene una función que recibe parámetros, se debe hacer algo particular, como veremos a continuación, mientras aprendemos a recibir `input` del usuario."
   ]
  },
  {
   "cell_type": "markdown",
   "metadata": {},
   "source": [
    "### Input ###"
   ]
  },
  {
   "cell_type": "code",
   "execution_count": null,
   "metadata": {
    "collapsed": false
   },
   "outputs": [],
   "source": [
    "#Primero creemos la función\n",
    "def printSomething(variable):\n",
    "    print(\"Digitaste %s\"%variable.get()) # Se accede al String con el método get()\n",
    "\n",
    "root=tk.Tk()\n",
    "s= tk.StringVar() # Primero debemos definir un objeto nuevo de Tkinter\n",
    "root.geometry('{}x{}'.format(500, 500))\n",
    "root.title(\"Tutorial de botones\")\n",
    "tk.Label(root, text=\"Ingresa un poco de texto --> \").grid(row=0, column=0)\n",
    "tk.Entry(root, textvariable=s).grid(row=0, column=1)\n",
    "tk.Button(root, text=\"Presióname\", command=lambda: printSomething(s)).grid(row=0, column=2)\n",
    "root.mainloop()"
   ]
  },
  {
   "cell_type": "markdown",
   "metadata": {},
   "source": [
    "`tk.Entry` recibe dos parámetros (en principio). Uno es el padre y el otro es la variable de texto (`textvariable`), que debe ser inicializada con anticipación para guardar los datos. Como su nombre lo indica, es una entrada de texto, en la que el usuario puede escribir, y el programa puede capturar.\n",
    "\n",
    "**Nota: **es importante recordar que hay que usar el método `get()` para obtener el String que digitó el usuario.\n",
    "\n",
    "Por último, note que en el botón colocamos en `command`\n",
    "```python\n",
    "lambda: printSomething(s)\n",
    "```\n",
    "Ésto se hace para no invocar la función sino hasta que se oprima el botón. Veamos otro ejemplo en el que podemos alterar la información en un cuadro de texto."
   ]
  },
  {
   "cell_type": "code",
   "execution_count": null,
   "metadata": {
    "collapsed": false
   },
   "outputs": [],
   "source": [
    "#Primero creemos la función\n",
    "def printSomething(variable):\n",
    "    print(\"Digitaste %s\"%variable.get()) # Se accede al String con el método get()\n",
    "def writeNothing(variable):\n",
    "    variable.set(\"La nada es primordial\") # Como habrá notado, set() es el comando\n",
    "    # que se encarga de modificar el texto en el cuadro.\n",
    "    \n",
    "root=tk.Tk()\n",
    "s= tk.StringVar() # Primero debemos definir un objeto nuevo de Tkinter\n",
    "root.geometry('{}x{}'.format(500, 500))\n",
    "root.title(\"Tutorial de botones\")\n",
    "tk.Label(root, text=\"Ingresa un poco de texto --> \").grid(row=0, column=0)\n",
    "tk.Entry(root, textvariable=s).grid(row=0, column=1)\n",
    "tk.Button(root, text=\"Presióname\", command=lambda: printSomething(s)).grid(row=0, column=2)\n",
    "tk.Button(root, text=\"Olvidar\", command=lambda: writeNothing(s)).grid(row=1, column=2)\n",
    "root.mainloop()"
   ]
  },
  {
   "cell_type": "markdown",
   "metadata": {},
   "source": [
    "#### Ejemplo ####\n",
    "Hagamos un programa que multiplique dos números reales y muestre el resultado en la interfaz:"
   ]
  },
  {
   "cell_type": "code",
   "execution_count": null,
   "metadata": {
    "collapsed": true
   },
   "outputs": [],
   "source": [
    "#Primero creemos la función\n",
    "def multiplicate(var1, var2, var3):\n",
    "    var3.set(str(float(var1.get())*float(var2.get())))\n",
    "    \n",
    "root=tk.Tk()\n",
    "s,r,v= tk.StringVar(), tk.StringVar(), tk.StringVar()\n",
    "root.geometry('{}x{}'.format(500, 500))\n",
    "root.title(\"Tutorial de botones\")\n",
    "\n",
    "tk.Entry(root, textvariable=s).grid(row=0, column=0)\n",
    "tk.Button(root, text=\"*\", command=lambda: multiplicate(s,r,v)).grid(row=0, column=1)\n",
    "tk.Entry(root, textvariable=r).grid(row=0, column=2)\n",
    "tk.Label(root, text=\"=\").grid(row=0, column=3)\n",
    "output=tk.Entry(root, textvariable=v)\n",
    "output.config(state=\"readonly\") # Que no se pueda modificar el contenido en este\n",
    "# cuadro de texto.\n",
    "output.grid(row=0, column=4)\n",
    "root.mainloop()"
   ]
  },
  {
   "cell_type": "markdown",
   "metadata": {},
   "source": [
    "### RadioButtons ###\n",
    "Esta estructura, común en ventanas, permite seleccionar una opción de múltiples opciones. A continuación se mostrará cómo implementarla; al correrla se dará cuenta del funcionamiento de la misma."
   ]
  },
  {
   "cell_type": "code",
   "execution_count": null,
   "metadata": {
    "collapsed": false
   },
   "outputs": [],
   "source": [
    "def emergentWindow(variable, listOfMath):\n",
    "    pseudo_root=tk.Tk()\n",
    "    string=\"Lo felicito por escoger a %s\"%listOfMath[int(variable.get())][0]\n",
    "    if(variable.get()!=0):\n",
    "        pseudo_root.title(\"¿Felicitación?\")\n",
    "        string+=\", ¿pero no debería ser Euler?\"\n",
    "    else:\n",
    "        pseudo_root.title(\"Felicitación\")\n",
    "    tk.Label(pseudo_root, text=string).grid()\n",
    "    pseudo_root.mainloop()\n",
    "    \n",
    "root=tk.Tk()\n",
    "v= tk.IntVar() #Para esta estructura necesitamos una variable que\n",
    "v.set(0) #nos indique cuál botón está activo al principio.\n",
    "root.geometry('{}x{}'.format(500, 500))\n",
    "root.title(\"¿Cuál es su matemático favorito?\")\n",
    "Mathematicians=[ (\"Euler\", 0), (\"Gauss\", 1), (\"Galois\", 2),\n",
    "               (\"Villani\", 3), (\"Poincaré\", 4), (\"Hilbert\", 5)] #Lista de tuplas\n",
    "dicOfRadioBut={} #No es obligatorio, pero quiero guardar mis botones en un diccionario\n",
    "for mathematic, number in Mathematicians: # iterando sobre las tuplas\n",
    "    dicOfRadioBut[number]=tk.Radiobutton(root, text=mathematic, variable=v, value=number)\n",
    "    dicOfRadioBut[number].grid()\n",
    "    #Si no se colocan kwargs en grid, éste lo ubica \"automáticamente\"\n",
    "\n",
    "tk.Button(root, text=\"Continuar\", command=lambda:emergentWindow(v, Mathematicians)).grid()\n",
    "root.mainloop()"
   ]
  },
  {
   "cell_type": "markdown",
   "metadata": {},
   "source": [
    "```python\n",
    "tk.Radiobutton(root, text=mathematic, variable=v, value=number)\n",
    "```\n",
    "Tenemos dos nuevos parámetros (*kwargs*): `variable` se encarga de asignar un tipo de variable de **Tkinter** a la lista de **RadioButtons**; de esta manera, ésta está pendiente de los cambios en la lista.  Por otro lado, tenemos a `value`, valor propio del respectivo **RadioButton**; cuando se le seleccione, el valor de la variable de **Tkinter** cambiará a este valor propio.\n",
    "\n",
    "Veamos el mismo ejemplo, pero interactivo..."
   ]
  },
  {
   "cell_type": "code",
   "execution_count": null,
   "metadata": {
    "collapsed": true
   },
   "outputs": [],
   "source": [
    "def emergentText(variable, listOfMath):\n",
    "    string=\"Lo felicito por escoger a %s\"%listOfMath[int(variable.get())][0]\n",
    "    if(variable.get()!=0):\n",
    "        string+=\", ¿pero no debería ser Euler?\"\n",
    "    label.config(text = string) #Label que cambia dinámicamente.\n",
    "\n",
    "\n",
    "    \n",
    "root=tk.Tk()\n",
    "v= tk.IntVar() #Para esta estructura necesitamos una variable que\n",
    "v.set(0) #nos indique cuál botón está activo al principio.\n",
    "root.geometry('{}x{}'.format(500, 500))\n",
    "root.title(\"¿Cuál es su matemático favorito?\")\n",
    "Mathematicians=[ (\"Euler\", 0), (\"Gauss\", 1), (\"Galois\", 2),\n",
    "               (\"Villani\", 3), (\"Poincaré\", 4), (\"Hilbert\", 5)] #Lista de tuplas\n",
    "dicOfRadioBut={} #No es obligatorio, pero quiero guardar mis botones en un diccionario\n",
    "for mathematic, number in Mathematicians: # iterando sobre las tuplas\n",
    "    dicOfRadioBut[number]=tk.Radiobutton(root, text=mathematic, variable=v, value=number,\n",
    "                                        command=lambda:emergentText(v, Mathematicians))\n",
    "    #Agregué la línea anterior.\n",
    "    dicOfRadioBut[number].grid()\n",
    "    #Si no se colocan kwargs en grid, éste lo ubica \"automáticamente\"\n",
    "label=tk.Label(text=\"\")\n",
    "label.grid()\n",
    "root.mainloop()"
   ]
  },
  {
   "cell_type": "markdown",
   "metadata": {},
   "source": [
    "### CheckButtons ###\n",
    "Esta estructura está encendida ó apagada; no hay más xD."
   ]
  },
  {
   "cell_type": "code",
   "execution_count": null,
   "metadata": {
    "collapsed": true
   },
   "outputs": [],
   "source": [
    "def turn():\n",
    "    if v.get()==0:\n",
    "        label.config(text=\"Apagado\")\n",
    "    else:\n",
    "        label.config(text=\"Encendido\")\n",
    "\n",
    "root=tk.Tk()\n",
    "v= tk.IntVar() #Para esta estructura necesitamos una variable que\n",
    "v.set(0)\n",
    "root.geometry('{}x{}'.format(500, 500))\n",
    "tk.Checkbutton(root, offvalue=0, onvalue=1, variable=v, command=turn).grid()\n",
    "#Como sólo hay dos estados (encendido o apagado), habrá dos opciones para la\n",
    "#variable v.\n",
    "label=tk.Label(root, text=\"\")\n",
    "label.grid()\n",
    "root.mainloop()"
   ]
  }
 ],
 "metadata": {
  "anaconda-cloud": {},
  "kernelspec": {
   "display_name": "Python [Root]",
   "language": "python",
   "name": "Python [Root]"
  },
  "language_info": {
   "codemirror_mode": {
    "name": "ipython",
    "version": 3
   },
   "file_extension": ".py",
   "mimetype": "text/x-python",
   "name": "python",
   "nbconvert_exporter": "python",
   "pygments_lexer": "ipython3",
   "version": "3.5.2"
  }
 },
 "nbformat": 4,
 "nbformat_minor": 0
}
