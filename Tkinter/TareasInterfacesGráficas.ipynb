{
 "cells": [
  {
   "cell_type": "markdown",
   "metadata": {},
   "source": [
    "1) Haga un programa que calcule números primos sin fin. Desde una ventana aparte usted debe decidir cuándo pararlo, y al pararlo, debe guardar toda la información en un txt para que la próxima vez que lo corra pueda empezar desde donde lo dejó.\n",
    "\n",
    "Cuando termine de correr, debe imprimir en la ventana el último número primo que calculó, así como la posición del mismo."
   ]
  },
  {
   "cell_type": "code",
   "execution_count": null,
   "metadata": {
    "collapsed": true
   },
   "outputs": [],
   "source": []
  },
  {
   "cell_type": "markdown",
   "metadata": {},
   "source": [
    "2) Escribir en una ventana una ecuación en términos de $x$, el intervalo para evaluar x; al oprimir un botón, se debe mostrar la figura en matplotlib de la respectiva gráfica."
   ]
  },
  {
   "cell_type": "code",
   "execution_count": null,
   "metadata": {
    "collapsed": true
   },
   "outputs": [],
   "source": []
  },
  {
   "cell_type": "markdown",
   "metadata": {},
   "source": [
    "3) Pruebe a hacer lo mismo del punto anterior para una ecuación en términos de $x$ e $y$, y grafique la respectiva superficie."
   ]
  },
  {
   "cell_type": "code",
   "execution_count": null,
   "metadata": {
    "collapsed": true
   },
   "outputs": [],
   "source": []
  },
  {
   "cell_type": "markdown",
   "metadata": {},
   "source": [
    "4) Generalice los dos puntos anteriores haciendo un programa que pueda hacer curvas en 2D y 3D, así como superficies en 3D. Toda la interacción se debe hacer desde la interfaz gráfica."
   ]
  },
  {
   "cell_type": "code",
   "execution_count": null,
   "metadata": {
    "collapsed": true
   },
   "outputs": [],
   "source": []
  },
  {
   "cell_type": "markdown",
   "metadata": {},
   "source": [
    "5) Haga un editor de texto sencillo en **Tkinter**."
   ]
  },
  {
   "cell_type": "code",
   "execution_count": null,
   "metadata": {
    "collapsed": true
   },
   "outputs": [],
   "source": []
  }
 ],
 "metadata": {
  "anaconda-cloud": {},
  "kernelspec": {
   "display_name": "Python [Root]",
   "language": "python",
   "name": "Python [Root]"
  },
  "language_info": {
   "codemirror_mode": {
    "name": "ipython",
    "version": 3
   },
   "file_extension": ".py",
   "mimetype": "text/x-python",
   "name": "python",
   "nbconvert_exporter": "python",
   "pygments_lexer": "ipython3",
   "version": "3.5.2"
  }
 },
 "nbformat": 4,
 "nbformat_minor": 0
}
