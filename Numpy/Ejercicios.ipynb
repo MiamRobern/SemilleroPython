{
 "cells": [
  {
   "cell_type": "markdown",
   "metadata": {},
   "source": [
    "# Ejercicios #"
   ]
  },
  {
   "cell_type": "markdown",
   "metadata": {},
   "source": [
    "**Nota:** Todos los ejercicios deberían de realizarse con arreglos de _Numpy_."
   ]
  },
  {
   "cell_type": "markdown",
   "metadata": {
    "collapsed": true
   },
   "source": [
    "1) Determine la probabilidad de que un número en una distribución **uniforme** de n números de 1 a n sean primos. Para ello, haga un arreglo unidimensional aleatorio entre dichos números y use un arreglo booleano que reciba las condiciones para seleccionar sólo los primos.\n",
    "\n",
    "**Nota: **Para ello, debe hacer una función que determine si un número es primo o no. Dicha función debe evitar calcular todos los primos anteriores cada vez que desee calcular si un número es primo, por lo que debe crear un arreglo que los contenga.\n"
   ]
  },
  {
   "cell_type": "code",
   "execution_count": null,
   "metadata": {
    "collapsed": true
   },
   "outputs": [],
   "source": []
  },
  {
   "cell_type": "markdown",
   "metadata": {},
   "source": [
    "2) Construya dos funciones, una que le retorne la diagonal de una matriz y otra que calcule el producto de los elementos de dicha diagonal."
   ]
  },
  {
   "cell_type": "code",
   "execution_count": null,
   "metadata": {
    "collapsed": true
   },
   "outputs": [],
   "source": []
  },
  {
   "cell_type": "markdown",
   "metadata": {},
   "source": [
    "3) Si usted tiene una probabilidad de ganar un partido de 0.7; si juega 8 partidos, ¿Cuál es la probabilidad de que usted gane más de la mitad?\n",
    "\n",
    "**Nota: ** Use _1darrays_ booleanos. `True` para simbolizar victoria y `False` para simbolizar derrota."
   ]
  },
  {
   "cell_type": "code",
   "execution_count": null,
   "metadata": {
    "collapsed": true
   },
   "outputs": [],
   "source": []
  },
  {
   "cell_type": "markdown",
   "metadata": {},
   "source": [
    "4) Determinar $X$ para el siguiente sistema de ecuaciones lineal.\n",
    "$$AX=B$$\n",
    "$$ \\left(\n",
    "    \\begin{array}{c} \n",
    "    3 & 5 & 2\\\\\n",
    "    4 & 2 & 3\\\\\n",
    "    -1 & 2 & 4\n",
    "    \\end{array}\\right)\\left(\\begin{array}{c} \n",
    "    x\\\\\n",
    "    y\\\\\n",
    "    z\n",
    "    \\end{array}\\right)=\\left(\\begin{array}{c} \n",
    "    -1\\\\\n",
    "    9\\\\\n",
    "    2\n",
    "    \\end{array}\\right)$$"
   ]
  },
  {
   "cell_type": "code",
   "execution_count": null,
   "metadata": {
    "collapsed": true
   },
   "outputs": [],
   "source": []
  },
  {
   "cell_type": "markdown",
   "metadata": {},
   "source": [
    "5) Aproximar $\\sqrt{2}$ con el polinomio $x^2-2$, con un intervalo de 0 a 1.5; para ello, evaluar el intervalo en dicho polinomio y encontrar un valor tal que dicho valor evaluado en el polinomio es menor que $10^{-6}$. Escoja la partición más conveniente."
   ]
  },
  {
   "cell_type": "code",
   "execution_count": null,
   "metadata": {
    "collapsed": true
   },
   "outputs": [],
   "source": []
  }
 ],
 "metadata": {
  "anaconda-cloud": {},
  "kernelspec": {
   "display_name": "Python [Root]",
   "language": "python",
   "name": "Python [Root]"
  },
  "language_info": {
   "codemirror_mode": {
    "name": "ipython",
    "version": 3
   },
   "file_extension": ".py",
   "mimetype": "text/x-python",
   "name": "python",
   "nbconvert_exporter": "python",
   "pygments_lexer": "ipython3",
   "version": "3.5.2"
  }
 },
 "nbformat": 4,
 "nbformat_minor": 0
}
