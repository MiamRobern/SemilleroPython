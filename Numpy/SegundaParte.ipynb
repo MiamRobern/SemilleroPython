{
 "cells": [
  {
   "cell_type": "code",
   "execution_count": null,
   "metadata": {
    "collapsed": true
   },
   "outputs": [],
   "source": [
    "import numpy as np"
   ]
  },
  {
   "cell_type": "markdown",
   "metadata": {},
   "source": [
    "# Linear Algebra #\n",
    "Let's continue with our linear algebra topics on **Numpy**. Note: I'm writing in english because I'm working in an english keyboard, so I can't use accent marks."
   ]
  },
  {
   "cell_type": "markdown",
   "metadata": {},
   "source": [
    "## Solve Linear Equation Systems ##\n",
    "Is easy to solve linear equation systems with **Numpy**, one can initialize the two matrices $A$ and $b$ that satisfies $Ax=b$ for an unique value of $x$. Notice that if the system is inconsistent or linearly dependent, **Numpy** will throw an error. Let's see some examples.\n",
    "\n",
    "Suposse you want to solve the next linear equation system (the example was literally taken from [here](http://docs.scipy.org/doc/numpy/reference/generated/numpy.linalg.solve.html#numpy.linalg.solve)):\n",
    "\n",
    "$$\\left(\n",
    "    \\begin{array}{c} \n",
    "    3 & 1\\\\\n",
    "    1 & 2 \n",
    "    \\end{array} \n",
    "\\right)\n",
    "\\left(\n",
    "    \\begin{array}{c}\n",
    "    x_1\\\\\n",
    "    x_2\n",
    "    \\end{array}\n",
    "\\right)=\n",
    "\\left(\n",
    "    \\begin{array}{c}\n",
    "    9\\\\\n",
    "    8\n",
    "    \\end{array}\n",
    "\\right)$$\n",
    "This is the way to do it."
   ]
  },
  {
   "cell_type": "code",
   "execution_count": null,
   "metadata": {
    "collapsed": false
   },
   "outputs": [],
   "source": [
    "a = np.array([[3,1], [1,2]])\n",
    "b =  np.array([9,8])\n",
    "x = np.linalg.solve(a, b)\n",
    "print(x)"
   ]
  },
  {
   "cell_type": "markdown",
   "metadata": {},
   "source": [
    "This seems to be the best way (**Numpy** incorpores _LAPACK_, a scientific library from C) to obtain the solution of a linear equation System, despite one can do it in the next way. "
   ]
  },
  {
   "cell_type": "code",
   "execution_count": null,
   "metadata": {
    "collapsed": false
   },
   "outputs": [],
   "source": [
    "print(np.dot(np.linalg.inv(a),b))"
   ]
  },
  {
   "cell_type": "markdown",
   "metadata": {},
   "source": [
    "## Eigenvalues and Eigenvectors ##\n",
    "Let's see a trivial example (taken from [here](http://docs.scipy.org/doc/numpy/reference/generated/numpy.linalg.eig.html#numpy.linalg.eig))"
   ]
  },
  {
   "cell_type": "code",
   "execution_count": null,
   "metadata": {
    "collapsed": false
   },
   "outputs": [],
   "source": [
    "w, v = np.linalg.eig(np.diag((1, 2, 3)))\n",
    "print(w) #Where w is an array with the eigenvalues\n",
    "print(v) #And v is a matrix with the eigenvectors"
   ]
  },
  {
   "cell_type": "markdown",
   "metadata": {},
   "source": [
    "To calcule only the eigenvalues, since it's a demanding process to calcule both\n",
    "```python\n",
    "np.linalg.eigvals(np.diag((1,2,3)))\n",
    "```"
   ]
  },
  {
   "cell_type": "markdown",
   "metadata": {},
   "source": [
    "* * *\n",
    "This information can be distributed freely :D"
   ]
  }
 ],
 "metadata": {
  "kernelspec": {
   "display_name": "Python 2",
   "language": "python",
   "name": "python2"
  },
  "language_info": {
   "codemirror_mode": {
    "name": "ipython",
    "version": 2
   },
   "file_extension": ".py",
   "mimetype": "text/x-python",
   "name": "python",
   "nbconvert_exporter": "python",
   "pygments_lexer": "ipython2",
   "version": "2.7.11"
  }
 },
 "nbformat": 4,
 "nbformat_minor": 0
}
