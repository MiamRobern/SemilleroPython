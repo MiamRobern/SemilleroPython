{
 "cells": [
  {
   "cell_type": "markdown",
   "metadata": {},
   "source": [
    "# Numpy #\n",
    "Numpy es una de las librerías más potentes en lo que respecta a computación científica en Python. En pocas palabras, Numpy es el Matrix Laboratory (Matlab) de Python (claramente libre y gratuito)."
   ]
  },
  {
   "cell_type": "markdown",
   "metadata": {},
   "source": [
    "### Arreglos (ndarrays) ###\n",
    "La estructura básica de Numpy es un tipo de dato llamado ndarrays *(n-dimensional arrays)*. Son estructuras similares a las listas básicas de Python, pero tienen ventajas respecto al espacio de memoria que ocupan y al acceso de éstos. Para información más completa, vea [este](http://stackoverflow.com/questions/993984/why-numpy-instead-of-python-lists) anexo.\n"
   ]
  },
  {
   "cell_type": "markdown",
   "metadata": {},
   "source": [
    "El comando para importar esta librería es el siguiente:"
   ]
  },
  {
   "cell_type": "code",
   "execution_count": null,
   "metadata": {
    "collapsed": true
   },
   "outputs": [],
   "source": [
    "import numpy as np #np es el pseudónimo que le vamos a poner a la librería"
   ]
  },
  {
   "cell_type": "markdown",
   "metadata": {},
   "source": [
    "Ahora trabajemos un poco con **ndarrays**"
   ]
  },
  {
   "cell_type": "code",
   "execution_count": null,
   "metadata": {
    "collapsed": false
   },
   "outputs": [],
   "source": [
    "#Creemos un ndarray de una dimensión (vector)\n",
    "a=np.array([1,2,3,4,5])\n",
    "#Note las diferencias con respecto a las listas:\n",
    "print(a*4)\n",
    "print(a+a)\n",
    "print(a<3)\n",
    "print(a**2)"
   ]
  },
  {
   "cell_type": "markdown",
   "metadata": {},
   "source": [
    "Creemos la siguiente matriz (ndarray de dos dimensiones)\n",
    "$$b=\\left(\n",
    "    \\begin{array}{c} \n",
    "    2 & 1 & 2\\\\\\\\\n",
    "    1 & 4 & 1\\\\\\\\\n",
    "    2 & 1 & 6\n",
    "    \\end{array} \n",
    "\\right)$$"
   ]
  },
  {
   "cell_type": "code",
   "execution_count": null,
   "metadata": {
    "collapsed": false
   },
   "outputs": [],
   "source": [
    "b=np.array([[2,1,2],[1,4,1],[2,1,6]])\n",
    "print(b)\n",
    "#Podemos imprimir las dimensiones, la forma y el tamaño, respectivamente.\n",
    "print(\"Las dimensiones son %i\"%b.ndim)\n",
    "print(\"La forma es de \"+str(b.shape))\n",
    "print(\"El tamaño es de %i\"%b.size)"
   ]
  },
  {
   "cell_type": "markdown",
   "metadata": {},
   "source": [
    "### Arrays aleatorios y condicionales ###\n",
    "Numpy posee unos métodos dedicados a analizar los números aleatorios y la probabilidad. A continuación, veremos algunas aplicaciones útiles de varios de ellos."
   ]
  },
  {
   "cell_type": "code",
   "execution_count": null,
   "metadata": {
    "collapsed": false
   },
   "outputs": [],
   "source": [
    "random_numbers=np.random.random(size=(10,10)) #Aquí imprimimos números aleatorios\n",
    "#desde 0 hasta 1, y los ponemos en una matriz 10x10.\n",
    "\n",
    "#Seleccionemos todos los números menores o iguales que 0.5:\n",
    "less_or_equal=random_numbers[random_numbers<=0.5]\n",
    "print(less_or_equal)#Note que arroja los resultados en 1darray.\n",
    "#¿Debería ser al menos el 50% no? Si intenta ejecutar esta línea unas\n",
    "#cuantas veces, se podría acercar a 50:\n",
    "print(less_or_equal.size)"
   ]
  },
  {
   "cell_type": "markdown",
   "metadata": {},
   "source": [
    "Supongo que ya lo sabrá; los números aleatorios generados en el computador en realidad no son aleatorios, pues necesitan una semilla y un algoritmo para ser generados, por lo que si se usan éstos dos de nuevo, se generarán los mismos números. En apariencia son aleatorios porque cuando usted ejecuta el código, se toma una semilla distinta proveniente del tiempo de su computador."
   ]
  },
  {
   "cell_type": "markdown",
   "metadata": {},
   "source": [
    "#### Algunas distribuciones ####"
   ]
  },
  {
   "cell_type": "code",
   "execution_count": null,
   "metadata": {
    "collapsed": false
   },
   "outputs": [],
   "source": [
    "print(np.random.uniform(-5, 12, size=(5,5))) #(tope inferior, tope  superior, dimensión)\n",
    "print()\n",
    "print(np.random.normal(5, 5, size=(5,5))) #(media, desviación estándar, dimensión)"
   ]
  },
  {
   "cell_type": "markdown",
   "metadata": {},
   "source": [
    "[Aquí](http://docs.scipy.org/doc/numpy/reference/routines.random.html) puede encontrar todas las distribuciones que soporta Numpy."
   ]
  },
  {
   "cell_type": "markdown",
   "metadata": {},
   "source": [
    "### Algunas cosas básicas ###"
   ]
  },
  {
   "cell_type": "code",
   "execution_count": null,
   "metadata": {
    "collapsed": false
   },
   "outputs": [],
   "source": [
    "#Considere el siguiente 2darray\n",
    "my_array=np.arange(0.5,12.6,0.5).reshape(5,5)\n",
    "print(my_array)"
   ]
  },
  {
   "cell_type": "markdown",
   "metadata": {},
   "source": [
    "Note que el método `arange` es similar al método implementado en Python `range`, mas `arange` puede operar con flotantes, a diferencia de su análogo. Este método crea un _1darray_, pero si se desea un arreglo de distinta dimensión, se usa el método `reshape`; en este caso particular, se compone una matriz $5\\times 5$ con un vector $1\\times 25$. Los tamaños se deben conservar. Si no, saldrá un error."
   ]
  },
  {
   "cell_type": "code",
   "execution_count": null,
   "metadata": {
    "collapsed": false
   },
   "outputs": [],
   "source": [
    "#Accedamos a los elementos de la primera columna\n",
    "print(my_array[:,0])\n",
    "#Y a los de la primera fila\n",
    "print(my_array[0,:])\n",
    "#O los de la diagonal\n",
    "print(my_array.diagonal())\n",
    "#También podría determinar la exponencial de todos los elementos de la matriz\n",
    "print(np.e**my_array.reshape(1,my_array.size))"
   ]
  },
  {
   "cell_type": "markdown",
   "metadata": {},
   "source": [
    "## Álgebra Lineal ##"
   ]
  },
  {
   "cell_type": "code",
   "execution_count": null,
   "metadata": {
    "collapsed": false
   },
   "outputs": [],
   "source": [
    "#Considere la siguiente matriz 3x3\n",
    "matrix=np.array([[2,7,5],[0,9,8],[7,4,0]])\n",
    "#La multiplicación por la matriz identidad da:\n",
    "print(matrix.dot(np.eye(3,3)))\n",
    "#Matrix^2\n",
    "print(matrix.dot(matrix))\n",
    "#El determinante de matrix es\n",
    "print(np.linalg.det(matrix))\n",
    "#Matriz de covarianza de matrix\n",
    "print(np.cov(matrix))"
   ]
  },
  {
   "cell_type": "markdown",
   "metadata": {},
   "source": [
    "## Intervalos y Grillas ##\n",
    "Los intervalos tienen diversas aplicaciones, como por ejemplo, graficar o realizar integrales numéricamente. Las grillas son intervalos en dos dimensiones, útiles cuando se grafican superficies en tres dimensiones. A continuación se presentan los métodos para crear particiones."
   ]
  },
  {
   "cell_type": "code",
   "execution_count": null,
   "metadata": {
    "collapsed": false
   },
   "outputs": [],
   "source": [
    "espacio=np.linspace(0,10,100)#Creamos una partición de 0 a 10 con cardinal 100.\n",
    "X,Y=np.meshgrid(espacio,espacio) #Aquí estamos creando un plano.\n",
    "print(X)\n",
    "print()\n",
    "print(Y)"
   ]
  },
  {
   "cell_type": "markdown",
   "metadata": {},
   "source": [
    "Lo que hace el método _meshgrid(a,b)_ es hacer una correspondencia de todos los elementos de _a_ con todos los de _b_. Así creamos una superficie bidimensional, útil para graficar campos escalares de $F:\\mathbb{R}^2\\rightarrow \\mathbb{R}$."
   ]
  },
  {
   "cell_type": "markdown",
   "metadata": {},
   "source": [
    "## Referencias ##\n",
    "1. http://www.numpy.org/"
   ]
  },
  {
   "cell_type": "markdown",
   "metadata": {},
   "source": [
    "***\n",
    "Esta información puede distribuirse libremente :D"
   ]
  }
 ],
 "metadata": {
  "anaconda-cloud": {},
  "kernelspec": {
   "display_name": "Python [Root]",
   "language": "python",
   "name": "Python [Root]"
  },
  "language_info": {
   "codemirror_mode": {
    "name": "ipython",
    "version": 3
   },
   "file_extension": ".py",
   "mimetype": "text/x-python",
   "name": "python",
   "nbconvert_exporter": "python",
   "pygments_lexer": "ipython3",
   "version": "3.5.2"
  }
 },
 "nbformat": 4,
 "nbformat_minor": 0
}
