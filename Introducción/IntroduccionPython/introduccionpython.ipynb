{
 "cells": [
  {
   "cell_type": "markdown",
   "metadata": {},
   "source": [
    "##Acerca de Python##\n",
    "Python es un lenguaje multiparadigma, de alto nivel. Las especificaciones técnicas no importan, porque vamos a usar este lenguaje como medio para resolver nuestros problemas."
   ]
  },
  {
   "cell_type": "markdown",
   "metadata": {},
   "source": [
    "##Tipos de Datos Primitivos##\n",
    "A diferencia de muchos lenguajes, en Python no es necesario especificar el tipo de dato de un objeto (desventaja en procesamiento, ventaja de alto nivel). Los flotantes se expresan con un punto simbolizando la parte decimal y los booleanos empiezan en mayúscula."
   ]
  },
  {
   "cell_type": "code",
   "execution_count": 2,
   "metadata": {
    "collapsed": false
   },
   "outputs": [
    {
     "name": "stdout",
     "output_type": "stream",
     "text": [
      "<type 'int'> <type 'float'> <type 'str'> <type 'bool'>\n"
     ]
    }
   ],
   "source": [
    "a=2\n",
    "b=3.\n",
    "c=\"Hola\"\n",
    "d=False\n",
    "print type(a),type(b),type(c),type(d)"
   ]
  },
  {
   "cell_type": "markdown",
   "metadata": {},
   "source": [
    "##Operaciones Elementales##"
   ]
  },
  {
   "cell_type": "code",
   "execution_count": 11,
   "metadata": {
    "collapsed": false
   },
   "outputs": [
    {
     "name": "stdout",
     "output_type": "stream",
     "text": [
      "5.0\n",
      "0.666666666667\n",
      "0\n",
      "8\n",
      "2.0\n",
      "Hola Mundo\n",
      "HolaHolaHola\n",
      "True\n"
     ]
    }
   ],
   "source": [
    "print a+b\n",
    "print a/b\n",
    "print a/3\n",
    "print a**3\n",
    "print a%b\n",
    "print c+\" Mundo\"\n",
    "print c*3\n",
    "print not(d)"
   ]
  },
  {
   "cell_type": "markdown",
   "metadata": {},
   "source": [
    "##Comentarios##\n",
    "A menudo se usan los comentarios cuando se programa para indicar al lector indicios de lo que se realiza en ciertos segmentos del código. Python consta de la siguiente sintaxis para ello."
   ]
  },
  {
   "cell_type": "code",
   "execution_count": 19,
   "metadata": {
    "collapsed": false
   },
   "outputs": [
    {
     "name": "stdout",
     "output_type": "stream",
     "text": [
      "Hola\n"
     ]
    }
   ],
   "source": [
    "#Este es un comentario de una linea\n",
    "\n",
    "\"\"\"\n",
    "Este es un comentario\n",
    "de n líneas\n",
    ":D\n",
    "\"\"\"\n",
    "print \"Hola\""
   ]
  },
  {
   "cell_type": "markdown",
   "metadata": {},
   "source": [
    "##Arreglos##\n",
    "Los arreglos en Python (llamados listas), a diferencia de otros lenguajes, pueden tener objetos de diferente tipo."
   ]
  },
  {
   "cell_type": "code",
   "execution_count": 26,
   "metadata": {
    "collapsed": false
   },
   "outputs": [
    {
     "name": "stdout",
     "output_type": "stream",
     "text": [
      "[2, 3.0, 'Hola', False]\n",
      "[[1, 2], [3, 4]]\n"
     ]
    }
   ],
   "source": [
    "lista=[a,b,c,d]\n",
    "print lista\n",
    "matriz=[[1,2],[3,4]]\n",
    "print matriz"
   ]
  },
  {
   "cell_type": "code",
   "execution_count": 24,
   "metadata": {
    "collapsed": false
   },
   "outputs": [
    {
     "name": "stdout",
     "output_type": "stream",
     "text": [
      "Los métodos del objeto tipo lista son los siguientes:\n",
      "['__add__', '__class__', '__contains__', '__delattr__', '__delitem__', '__delslice__', '__eq__', '__format__', '__ge__', '__getattribute__', '__getitem__', '__getslice__', '__gt__', '__iadd__', '__imul__', '__init__', '__iter__', '__le__', '__len__', '__lt__', '__mul__', '__ne__', '__new__', '__reduce__', '__reduce_ex__', '__repr__', '__reversed__', '__rmul__', '__setattr__', '__setitem__', '__setslice__', '__sizeof__', '__str__', '__subclasshook__', 'append', 'count', 'extend', 'index', 'insert', 'pop', 'remove', 'reverse', 'sort']\n"
     ]
    }
   ],
   "source": [
    "print \"Los métodos del objeto tipo lista son los siguientes:\"\n",
    "print [method for method in dir(matriz) if callable(getattr(matriz, method))]"
   ]
  },
  {
   "cell_type": "markdown",
   "metadata": {},
   "source": [
    "* * *\n",
    "Esta información puede distribuirse libremente."
   ]
  }
 ],
 "metadata": {
  "kernelspec": {
   "display_name": "Python 2",
   "language": "python",
   "name": "python2"
  },
  "language_info": {
   "codemirror_mode": {
    "name": "ipython",
    "version": 2
   },
   "file_extension": ".py",
   "mimetype": "text/x-python",
   "name": "python",
   "nbconvert_exporter": "python",
   "pygments_lexer": "ipython2",
   "version": "2.7.11"
  }
 },
 "nbformat": 4,
 "nbformat_minor": 0
}
