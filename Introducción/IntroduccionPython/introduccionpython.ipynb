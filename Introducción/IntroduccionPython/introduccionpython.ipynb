{
 "cells": [
  {
   "cell_type": "markdown",
   "metadata": {},
   "source": [
    "##Acerca de Python##\n",
    "Python es un lenguaje multiparadigma, de alto nivel. Las especificaciones técnicas no importan, porque vamos a usar este lenguaje como medio para resolver nuestros problemas."
   ]
  },
  {
   "cell_type": "markdown",
   "metadata": {},
   "source": [
    "##Tipos de Datos Primitivos##\n",
    "A diferencia de muchos lenguajes, en Python no es necesario especificar el tipo de dato de un objeto (desventaja en procesamiento, ventaja de alto nivel). Los flotantes se expresan con un punto simbolizando la parte decimal y los booleanos empiezan en mayúscula."
   ]
  },
  {
   "cell_type": "code",
   "execution_count": null,
   "metadata": {
    "collapsed": false
   },
   "outputs": [],
   "source": [
    "a=2\n",
    "b=3.\n",
    "c=\"Hola\"\n",
    "d=False\n",
    "print type(a),type(b),type(c),type(d)"
   ]
  },
  {
   "cell_type": "markdown",
   "metadata": {},
   "source": [
    "##Operaciones Elementales##"
   ]
  },
  {
   "cell_type": "code",
   "execution_count": null,
   "metadata": {
    "collapsed": false
   },
   "outputs": [],
   "source": [
    "print a+b\n",
    "print a/b\n",
    "print a/3\n",
    "print a**3\n",
    "print a%b\n",
    "print c+\" Mundo\"\n",
    "print c*3\n",
    "print not(d)"
   ]
  },
  {
   "cell_type": "markdown",
   "metadata": {},
   "source": [
    "##Comentarios##\n",
    "A menudo se usan los comentarios cuando se programa para indicar al lector indicios de lo que se realiza en ciertos segmentos del código. Python consta de la siguiente sintaxis para ello."
   ]
  },
  {
   "cell_type": "code",
   "execution_count": null,
   "metadata": {
    "collapsed": false
   },
   "outputs": [],
   "source": [
    "#Este es un comentario de una linea\n",
    "\n",
    "\"\"\"\n",
    "Este es un comentario\n",
    "de n líneas\n",
    ":D\n",
    "\"\"\"\n",
    "print \"Hola\""
   ]
  },
  {
   "cell_type": "markdown",
   "metadata": {},
   "source": [
    "##Arreglos##\n",
    "Los arreglos en Python (llamados listas), a diferencia la mayoría de lenguajes, pueden tener objetos de diferente tipo."
   ]
  },
  {
   "cell_type": "code",
   "execution_count": null,
   "metadata": {
    "collapsed": false
   },
   "outputs": [],
   "source": [
    "lista=[a,b,c,d]\n",
    "print lista\n",
    "matriz=[[1,2],[3,4]]\n",
    "print matriz"
   ]
  },
  {
   "cell_type": "code",
   "execution_count": null,
   "metadata": {
    "collapsed": false
   },
   "outputs": [],
   "source": [
    "print \"Los métodos del objeto tipo lista son los siguientes:\"\n",
    "print [method for method in dir(matriz) if callable(getattr(matriz, method))]\n",
    "print \"\\n\"+\"\\x1b[31mSi desea saber el funcionamiento particular de alguno de estos métodos, \\ndigite help(<nombre_lista>.<nombre_método>).\\x1b[0m\""
   ]
  },
  {
   "cell_type": "markdown",
   "metadata": {},
   "source": [
    "###Practiquemos un poco###"
   ]
  },
  {
   "cell_type": "code",
   "execution_count": null,
   "metadata": {
    "collapsed": true
   },
   "outputs": [],
   "source": []
  },
  {
   "cell_type": "markdown",
   "metadata": {},
   "source": [
    "##Tuplas, Conjuntos##\n",
    "Las tuplas, a diferencia de las listas, son inmutables. Los conjuntos son análogos a los que ya conocemos."
   ]
  },
  {
   "cell_type": "code",
   "execution_count": null,
   "metadata": {
    "collapsed": false
   },
   "outputs": [],
   "source": [
    "tupla=(1,2,3)\n",
    "tupla.append(2)"
   ]
  },
  {
   "cell_type": "code",
   "execution_count": null,
   "metadata": {
    "collapsed": false
   },
   "outputs": [],
   "source": [
    "conjunto={1,2,3,3}\n",
    "print conjunto\n",
    "print conjunto.union({2,3,4})"
   ]
  },
  {
   "cell_type": "markdown",
   "metadata": {},
   "source": [
    "###Practiquemos un poco más###"
   ]
  },
  {
   "cell_type": "code",
   "execution_count": null,
   "metadata": {
    "collapsed": true
   },
   "outputs": [],
   "source": []
  },
  {
   "cell_type": "markdown",
   "metadata": {},
   "source": [
    "##Diccionarios##\n",
    "Los diccionarios son listas indexadas con Strings (cadenas de carácteres) en vez de números naturales."
   ]
  },
  {
   "cell_type": "code",
   "execution_count": null,
   "metadata": {
    "collapsed": false
   },
   "outputs": [],
   "source": [
    "diccionario={\"uno\":1, \"nombre\":\"Alex\", \"Estudiantes\":[\"Python\", \"Nada\"]}\n",
    "print diccionario[0]"
   ]
  },
  {
   "cell_type": "code",
   "execution_count": null,
   "metadata": {
    "collapsed": false
   },
   "outputs": [],
   "source": [
    "print diccionario[\"uno\"]\n",
    "print diccionario[\"nombre\"]\n",
    "print diccionario[\"Estudiantes\"]"
   ]
  },
  {
   "cell_type": "markdown",
   "metadata": {},
   "source": [
    "##Ciclos##"
   ]
  },
  {
   "cell_type": "code",
   "execution_count": null,
   "metadata": {
    "collapsed": false
   },
   "outputs": [],
   "source": [
    "for x in xrange(10): #xrange(10) es una lista\n",
    "    print x,\n",
    "print\n",
    "\n",
    "count=0\n",
    "while (count<10):\n",
    "    print count,\n",
    "    count+=1\n",
    "print \n",
    "for x in diccionario.iterkeys():\n",
    "    print x,"
   ]
  },
  {
   "cell_type": "markdown",
   "metadata": {},
   "source": [
    "##Condicionales##"
   ]
  },
  {
   "cell_type": "code",
   "execution_count": null,
   "metadata": {
    "collapsed": false
   },
   "outputs": [],
   "source": [
    "a=21\n",
    "if a<10:\n",
    "    print \"%i es menor que 10\"%a\n",
    "else:\n",
    "    print \"%i es mayor o igual que 10\"%a\n",
    "    \n",
    "b=\"Hola\"\n",
    "if b==\"Nada\":\n",
    "    print \"No hay nada\"\n",
    "elif b==\"Todo\":\n",
    "    print \"Está todo\"\n",
    "else:\n",
    "    print \"El valor es %s\"%b"
   ]
  },
  {
   "cell_type": "markdown",
   "metadata": {},
   "source": [
    "###Ahora usemos todo lo que hemos aprendido###"
   ]
  },
  {
   "cell_type": "code",
   "execution_count": null,
   "metadata": {
    "collapsed": true
   },
   "outputs": [],
   "source": []
  },
  {
   "cell_type": "markdown",
   "metadata": {},
   "source": [
    "* * *\n",
    "Esta información puede distribuirse libremente."
   ]
  }
 ],
 "metadata": {
  "kernelspec": {
   "display_name": "Python 2",
   "language": "python",
   "name": "python2"
  },
  "language_info": {
   "codemirror_mode": {
    "name": "ipython",
    "version": 2
   },
   "file_extension": ".py",
   "mimetype": "text/x-python",
   "name": "python",
   "nbconvert_exporter": "python",
   "pygments_lexer": "ipython2",
   "version": "2.7.10"
  }
 },
 "nbformat": 4,
 "nbformat_minor": 0
}
