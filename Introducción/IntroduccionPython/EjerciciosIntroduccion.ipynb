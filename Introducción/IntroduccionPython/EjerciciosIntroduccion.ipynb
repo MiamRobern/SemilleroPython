{
 "cells": [
  {
   "cell_type": "markdown",
   "metadata": {},
   "source": [
    "# Ejercicios #\n",
    "Nota: Recuerde que $0\\in \\mathbb{N}$."
   ]
  },
  {
   "cell_type": "markdown",
   "metadata": {},
   "source": [
    "1) Calcule la suma de los 500 primeros números primos, i.e.\n",
    "\n",
    "<font size=\"5\">$\\sum\\limits_{n=1}^{500} p_i$</font>, con $p_i$ primo."
   ]
  },
  {
   "cell_type": "code",
   "execution_count": null,
   "metadata": {
    "collapsed": true
   },
   "outputs": [],
   "source": []
  },
  {
   "cell_type": "markdown",
   "metadata": {},
   "source": [
    "2) Seguro ha escuchado hablar de la conjetura de Collatz. Si no, reza que todo número al que se le aplique el siguiente proceso iterativo:\n",
    "\n",
    "<center>$n\\implies n/2$ si $n=2k$ con $k\\in \\mathbb{N}$</center>\n",
    "<center>$n\\implies 3n+1$ si $n=2k+1$ con $k\\in \\mathbb{N}$</center>\n",
    "terminará en 1. Por ejemplo, para 14:\n",
    "\n",
    "$14\\implies 7 \\implies 22 \\implies 11 \\implies 34 \\implies 17 \\implies 52 \\implies 26 \\implies 13 \\implies 40 \\implies 20 \\implies 10 \\implies 5 \\implies 16 \\implies 8 \\implies 4 \\implies 2 \\implies 1$\n",
    "\n",
    "Note que hay 17 iteraciones desde 14 hasta 1. Determine cuál es el número entre 1 y $9\\times 10^5$ que requiere más iteraciones para llegar a 1. Recomendación: use el tipo long de Python."
   ]
  },
  {
   "cell_type": "code",
   "execution_count": null,
   "metadata": {
    "collapsed": true
   },
   "outputs": [],
   "source": []
  },
  {
   "cell_type": "markdown",
   "metadata": {},
   "source": [
    "3) Sea $f(x)=y=\\sqrt{1-x^2}$ con $x\\in [0,1]$. Sabemos que\n",
    "\n",
    "$4\\int\\limits_0^1 \\sqrt{1-x^2}dx=\\pi$\n",
    "Calcule numéricamente el valor de $\\pi$ con una precisión de 10 decimales comparando el valor de las sumas superiores e inferiores de esta integral. Recomendación: Haga una partición regular de tamaño $\\Delta x$, y con ella calcule el valor de las sumas superiores e inferiores teniendo en cuenta que $f(x)$ es decreciente en el intervalo $[0,1]$.\n",
    "\n",
    "También debe recordar que, por sumas de Riemman:\n",
    "\n",
    "$\\int\\limits_b^a f(x)dx$ existe y es $L$ si y sólo si las sumas inferior y superior tienen el mismo valor ($L$) cuando $\\Delta x \\rightarrow 0$."
   ]
  },
  {
   "cell_type": "code",
   "execution_count": null,
   "metadata": {
    "collapsed": true
   },
   "outputs": [],
   "source": []
  },
  {
   "cell_type": "markdown",
   "metadata": {},
   "source": [
    "4) Recuerde que \n",
    "\n",
    "$\\sum\\limits^\\mathbb{N}_n \\frac{1}{k^n}=\\prod\\limits_{p\\ primo} \\frac{p^n}{p^n-1}$\n",
    "\n",
    "Así como que\n",
    "$\\prod\\limits_{p\\ primo} \\frac{p^2}{p^2-1}=\\frac{\\pi^2}{6}$\n",
    "Calcule $\\pi$ a partir de los primeros 10000 números primos."
   ]
  },
  {
   "cell_type": "code",
   "execution_count": null,
   "metadata": {
    "collapsed": true
   },
   "outputs": [],
   "source": []
  },
  {
   "cell_type": "markdown",
   "metadata": {},
   "source": [
    "Mire esto:"
   ]
  },
  {
   "cell_type": "code",
   "execution_count": null,
   "metadata": {
    "collapsed": false
   },
   "outputs": [],
   "source": [
    "from IPython.display import display, Math, Latex\n",
    "a=input(\"Ingrese la parte real > \")\n",
    "b=input(\"Ingrese la parte imaginaria > \")\n",
    "display(Math(r\"z=%i+%ii=|z|e^{i\\ arg(z)}\"%(a,b)))"
   ]
  },
  {
   "cell_type": "markdown",
   "metadata": {},
   "source": [
    "5) Haga un programa que le pida al usuario la parte real e imaginaria de un número complejo. Después imprima en $LaTeX$ el complejo de la forma $z=|z|e^{i\\ arg(z)}$, con sus respectivos valores numéricos. Ejemplo:\n",
    "\n",
    "$z=\\sqrt{3}+i=2exp(\\dfrac{i\\pi}{6})$"
   ]
  },
  {
   "cell_type": "code",
   "execution_count": null,
   "metadata": {
    "collapsed": true
   },
   "outputs": [],
   "source": []
  },
  {
   "cell_type": "markdown",
   "metadata": {},
   "source": [
    "Si tienen problemas me pueden preguntar."
   ]
  }
 ],
 "metadata": {
  "anaconda-cloud": {},
  "kernelspec": {
   "display_name": "Python [Root]",
   "language": "python",
   "name": "Python [Root]"
  },
  "language_info": {
   "codemirror_mode": {
    "name": "ipython",
    "version": 3
   },
   "file_extension": ".py",
   "mimetype": "text/x-python",
   "name": "python",
   "nbconvert_exporter": "python",
   "pygments_lexer": "ipython3",
   "version": "3.5.2"
  }
 },
 "nbformat": 4,
 "nbformat_minor": 0
}
