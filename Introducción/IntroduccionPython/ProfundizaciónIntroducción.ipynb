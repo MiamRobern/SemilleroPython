{
 "cells": [
  {
   "cell_type": "markdown",
   "metadata": {},
   "source": [
    "## Profundización de Conceptos ##"
   ]
  },
  {
   "cell_type": "markdown",
   "metadata": {},
   "source": [
    "### Recibir Datos ###\n",
    "Para recibir comandos del usuario utilizaremos los comandos `input` y `raw_input`; uno recibe los datos en el tipo de dato más apropiado y el otro los recibe como `string`, respectivamente.\n",
    "```python\n",
    "a=input(\"Ingrese un valor numérico > \")\n",
    "b=raw_input(\"Ingrese cualquier cosa > \")\n",
    "```\n",
    "**Nota:** *raw_input* es obsoleto y ya no se usa en Python3.x\n",
    "\n",
    "Por ejemplo, podemos hacer un programa que imprima los primeros 20 términos de una sucesión de la forma:\n",
    "$$a_n=m^n,$$\n",
    "con $n\\in \\mathbb{N}$ y $m\\in \\mathbb{R}$."
   ]
  },
  {
   "cell_type": "code",
   "execution_count": null,
   "metadata": {
    "collapsed": false
   },
   "outputs": [],
   "source": [
    "m=float(input(\"Ingrese un valor numérico > \"))\n",
    "for n in range(0,20):\n",
    "    \"\"\"\n",
    "    Si usas Python2.x, el print no funcionará,\n",
    "    usa:\n",
    "    print m**n,\n",
    "    \"\"\"\n",
    "    print(m**n, end=\" \") "
   ]
  },
  {
   "cell_type": "markdown",
   "metadata": {},
   "source": [
    "### Funciones ###\n",
    "A veces es útil abstraer secciones de código que hacen funciones específicas con el fin de usarlas más adelante, o simplemente mantener un orden al programar. Para ello existen las funciones. Una función se define como sigue\n",
    "```python\n",
    "def nombreFuncion(parametro1, parametro2):\n",
    "    \"\"\"\n",
    "    Aquí hacemos algo con los parámetros de entrada,\n",
    "    (parametro1,parametro2) y decidimos si debemos retornar algo.\n",
    "    \"\"\"\n",
    "    return algo\n",
    "```\n",
    "<b>Ejemplo:</b> hacer una función que reciba como argumento dos listas, y calcule la unión de dichas listas, como si fueran conjuntos."
   ]
  },
  {
   "cell_type": "code",
   "execution_count": null,
   "metadata": {
    "collapsed": true
   },
   "outputs": [],
   "source": [
    "def contarRepeticiones(lista, elemento):\n",
    "    \"\"\"\n",
    "    Esta función sirve para contar cuántas veces está un elemento dado\n",
    "    en una lista.\n",
    "    \"\"\"\n",
    "    count=0\n",
    "    for x in lista:\n",
    "        if elemento==x:\n",
    "            count+=1\n",
    "    return count\n",
    "\n",
    "def union(lista1, lista2):\n",
    "    \"\"\"\n",
    "    Esta función realiza la unión de dos listas, apoyándose en la\n",
    "    función contarRepeticiones, pues se puede llamar funciones dentro\n",
    "    de funciones.\n",
    "    \"\"\"\n",
    "    resultado=lista1+lista2 #Uno las dos listas\n",
    "    for x in resultado:\n",
    "        while (contarRepeticiones(resultado,x)!=1): #Eliminemos los repetidos hasta que\n",
    "            resultado.remove(x) #sólo quede un elemento de cada.\n",
    "    return resultado"
   ]
  },
  {
   "cell_type": "markdown",
   "metadata": {},
   "source": [
    "Como habrá podido apreciar, correr el código anterior no arrojó _output_. Lo que hicimos fue definir las funciones, mas todavía no existen; para ejecutarlas hay que llamarlas. Una vez la ejecución de una función termina, deja de existir.\n",
    "\n",
    "<b>Nota Importante:</b> Lo que pasa dentro de una función se queda dentro de una función. Lo único que vuelve a la ejecución principal es lo que esté precedido por la palabra clave `return`."
   ]
  },
  {
   "cell_type": "code",
   "execution_count": null,
   "metadata": {
    "collapsed": false
   },
   "outputs": [],
   "source": [
    "print(union([1,2,3,4,5,6],[3,4,5,6,7])) #Pon los conjuntos que quieras ;)."
   ]
  },
  {
   "cell_type": "markdown",
   "metadata": {},
   "source": [
    "### Manejo de Excepciones ###\n",
    "A veces uno desea que Python haga ciertas cosas en vez de romperse cuando recibe un error; para ello, usamos la siguiente sintaxis:\n",
    "```python\n",
    "try:\n",
    "    #Aquí ponemos algo que queremos que haga Python\n",
    "except:\n",
    "    #Si hay algún error de ejecución, haremos que se\n",
    "    #ejecute esta sección, en vez\n",
    "    #de parar la ejecución con un Error. \n",
    "```\n",
    "**Ejemplo:** Reciba un dato cualquiera. Si no puede transformar dicho dato en un número entero, dígale al usuario que la embarró."
   ]
  },
  {
   "cell_type": "code",
   "execution_count": null,
   "metadata": {
    "collapsed": false
   },
   "outputs": [],
   "source": [
    "a=input(\"Ingrese un dato > \")\n",
    "try:\n",
    "    int(a)\n",
    "except:\n",
    "    print(\"La embarraste :v\")"
   ]
  },
  {
   "cell_type": "markdown",
   "metadata": {},
   "source": [
    "Uno puede poner un error específico si desea que el `except` entre en acción en caso de un error determinado, por ejemplo:\n",
    "```python\n",
    "try:\n",
    "    int(a)\n",
    "except ValueError:\n",
    "    print(\"La embarraste :v\")\n",
    "```\n",
    "Si lo deseas, puedes profundizar más [aquí](https://wiki.python.org/moin/HandlingExceptions)."
   ]
  },
  {
   "cell_type": "markdown",
   "metadata": {},
   "source": [
    "***\n",
    "Con esto ya deberían poder defenderse en Python. No olviden hacer los ejercicios."
   ]
  }
 ],
 "metadata": {
  "kernelspec": {
   "display_name": "Python [Root]",
   "language": "python",
   "name": "Python [Root]"
  },
  "language_info": {
   "codemirror_mode": {
    "name": "ipython",
    "version": 3
   },
   "file_extension": ".py",
   "mimetype": "text/x-python",
   "name": "python",
   "nbconvert_exporter": "python",
   "pygments_lexer": "ipython3",
   "version": "3.5.2"
  }
 },
 "nbformat": 4,
 "nbformat_minor": 0
}
