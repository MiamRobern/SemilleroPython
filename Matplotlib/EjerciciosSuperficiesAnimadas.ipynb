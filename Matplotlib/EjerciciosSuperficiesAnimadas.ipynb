{
 "cells": [
  {
   "cell_type": "markdown",
   "metadata": {},
   "source": [
    "# Ejercicios #\n",
    "La información acerca de animaciones de superficies en Matplotlib escasea, por lo que es muy probable que no encuentre pistas acerca de cómo hacer los siguientes ejercicios; esto implica una gran cantidad de conocimientos para llevarlos a cabo. Ni yo los he hecho, pero podemos sentarnos y hacerlos. ¡Suerte!"
   ]
  },
  {
   "cell_type": "markdown",
   "metadata": {},
   "source": [
    "1) Haga una animación en la que un cascarón esférico se desplace desde el origen hasta un lugar arbitrario."
   ]
  },
  {
   "cell_type": "code",
   "execution_count": null,
   "metadata": {
    "collapsed": true
   },
   "outputs": [],
   "source": []
  },
  {
   "cell_type": "markdown",
   "metadata": {},
   "source": [
    "2) Haga la misma animación del punto anterior, pero esta vez el caparazón debe construirse mientras se mueve, de tal manera que cuando llegue al destino debe estar construido completamente."
   ]
  },
  {
   "cell_type": "code",
   "execution_count": null,
   "metadata": {
    "collapsed": true
   },
   "outputs": [],
   "source": []
  },
  {
   "cell_type": "markdown",
   "metadata": {},
   "source": [
    "3) Sea el campo escalar $z=ke^{-k(x^2+y^2)}$ con $k=1,2,...,100$. Haga una animación que le muestre todos los valores (consecutivamente) del campo escalar en el entorno $x\\in[-2,2]$ y $y\\in[-2,2]$ para cada valor de $k$."
   ]
  },
  {
   "cell_type": "code",
   "execution_count": null,
   "metadata": {
    "collapsed": true
   },
   "outputs": [],
   "source": []
  }
 ],
 "metadata": {
  "anaconda-cloud": {},
  "kernelspec": {
   "display_name": "Python [Root]",
   "language": "python",
   "name": "Python [Root]"
  },
  "language_info": {
   "codemirror_mode": {
    "name": "ipython",
    "version": 3
   },
   "file_extension": ".py",
   "mimetype": "text/x-python",
   "name": "python",
   "nbconvert_exporter": "python",
   "pygments_lexer": "ipython3",
   "version": "3.5.2"
  }
 },
 "nbformat": 4,
 "nbformat_minor": 0
}
