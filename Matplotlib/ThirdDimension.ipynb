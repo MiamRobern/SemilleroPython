{
 "cells": [
  {
   "cell_type": "markdown",
   "metadata": {
    "nbpresent": {
     "id": "2cf0d0cb-c27d-4861-9ccb-34a0cfb8e796"
    }
   },
   "source": [
    "# 3D Plots (Curves and Surfaces) #\n",
    "Drawing curves in 2D is not enough useful and fancy, so we are going to see how to make some plots in 3D with matplotlib. There are plenty of things that can be extend from 2D to 3D, like plotting, texting and scattering. Let's start!\n",
    "\n",
    "P.D. This topic is so important that I decided to make this guide in english.\n",
    "\n",
    "Before starting, I have to say that is (sometimes, not always) problematic to draw in 3D, because IPython Notebook can't handle it. If it's your case, you should execute all code in a terminal, writing on it `python` or `ipython`. Another anotation; the magic function\n",
    "```python\n",
    "%matplotlib inline\n",
    "```\n",
    "is almost unuseful, because there is no sense in 3D plotting if one can't move the frames to get different points of view."
   ]
  },
  {
   "cell_type": "markdown",
   "metadata": {
    "nbpresent": {
     "id": "3fa73f7a-3464-4181-8a4d-57a14822c76d"
    }
   },
   "source": [
    "### Libraries and Convention ###\n",
    "In the next line is shown the libraries we'll use"
   ]
  },
  {
   "cell_type": "code",
   "execution_count": null,
   "metadata": {
    "collapsed": true,
    "nbpresent": {
     "id": "f4b29ab8-322f-4712-8d05-061507aab069"
    }
   },
   "outputs": [],
   "source": [
    "import matplotlib.pyplot as plt\n",
    "from mpl_toolkits.mplot3d import Axes3D\n",
    "import numpy as np #I just need it"
   ]
  },
  {
   "cell_type": "markdown",
   "metadata": {
    "nbpresent": {
     "id": "0614fa12-83d6-49ed-9c42-40b2dbdea732"
    }
   },
   "source": [
    "Also, some extra parameters are needed to do a special frame whose canvas can contain the 3D axis. These are:\n",
    "```python\n",
    "fig = plt.figure()\n",
    "ax = fig.add_subplot(111, projection='3d')\n",
    "```\n",
    "In the first line we are making the frame, and in the second, the $111$ symbolizes proportion of axis (one respect the others), and `projection='3d'` talks by itself."
   ]
  },
  {
   "cell_type": "markdown",
   "metadata": {
    "nbpresent": {
     "id": "2a6946d0-07c7-4e06-a1f5-6cebd717781f"
    }
   },
   "source": [
    "### 3DPlot ###\n",
    "Let's draw a [Viviani's curve](https://en.wikipedia.org/wiki/Viviani%27s_curve)."
   ]
  },
  {
   "cell_type": "code",
   "execution_count": null,
   "metadata": {
    "collapsed": false,
    "nbpresent": {
     "id": "ccb356fa-ed4d-40be-8f58-a00297252599"
    }
   },
   "outputs": [],
   "source": [
    "fig = plt.figure()\n",
    "ax = fig.add_subplot(111, projection='3d')\n",
    "t=np.linspace(-2*np.pi,2*np.pi,100)\n",
    "plt.plot(1+np.cos(t),np.sin(t),2*np.sin(t/2)) #As the way as we do in 2D, but with one extra\n",
    "#parameter\n",
    "plt.show()"
   ]
  },
  {
   "cell_type": "markdown",
   "metadata": {},
   "source": [
    "### 3D Animated Plotting ###\n",
    "Easy, isn't it? Let's complicate this a bit. In most cases, an image worth more than 1000 words, and a video worth like 150 frames per second. I trust that as you will learn to do 3D animations, you could also do animations in 2D. The function we'll use is\n",
    "```python\n",
    "animation.FuncAnimation(fig, func, frames=None, init_func=None, fargs=None, save_count=None, **kwargs)\n",
    "```"
   ]
  },
  {
   "cell_type": "code",
   "execution_count": null,
   "metadata": {
    "collapsed": true
   },
   "outputs": [],
   "source": [
    "import matplotlib.animation as animation #This is the sublibrary dedicated to animations"
   ]
  },
  {
   "cell_type": "markdown",
   "metadata": {},
   "source": [
    "Now we're going to learn how to prepair the arguments to execute this method correctly.\n",
    "\n",
    "The argument _fig_ concerns to a frame type object from matplotlib. So, we can use axis or a normal figure frame.\n",
    "\n",
    "Before analyzing _func_ argument, is going to be defined an object (tuple type) of objects `matplotlib.plot`. This is done to obtain all frames of our animation. Let me explain myself; at the beginning, our tuple only has the element\n",
    "\n",
    "```python\n",
    "plt.plot([],[], \"r-\")\n",
    "```\n",
    "That's, nothing. Though, with a function we'll add more graphics."
   ]
  },
  {
   "cell_type": "code",
   "execution_count": null,
   "metadata": {
    "collapsed": false
   },
   "outputs": [],
   "source": [
    "line, = plt.plot([],[], \"r-\")"
   ]
  },
  {
   "cell_type": "markdown",
   "metadata": {},
   "source": [
    "This is the function in charge to do the animation"
   ]
  },
  {
   "cell_type": "code",
   "execution_count": null,
   "metadata": {
    "collapsed": true
   },
   "outputs": [],
   "source": [
    "def anima(num, data, line):\n",
    "    line.set_data(data[:2, :num])\n",
    "    line.set_3d_properties(data[2, :num])\n",
    "    return line,"
   ]
  },
  {
   "cell_type": "markdown",
   "metadata": {},
   "source": [
    "There are plenty of functions useful to animate (we'll see some next), but this is a good start.\n",
    "\n",
    "It receives three arguments, _num_, _data_ and _line_. This is my implementation, so I selected _data_ to be an 3darray, whose content in the first columns is the data in $x$ axis, second $y$ axis and third $z$ axis. Is important that the kwarg _frames_ be equal to size of the 3darray (in columns), because each frame has a dedicated graphic. Let's animate the Viviani's curve."
   ]
  },
  {
   "cell_type": "code",
   "execution_count": null,
   "metadata": {
    "collapsed": false
   },
   "outputs": [],
   "source": [
    "fig = plt.figure()\n",
    "ax = fig.add_subplot(111, projection='3d')\n",
    "t=np.linspace(-2*np.pi,2*np.pi,100)\n",
    "x=1+np.cos(t)\n",
    "y=np.sin(t)\n",
    "z=2*np.sin(t/2)\n",
    "data=np.vstack((x,y,z)) #What are we doing here?\n",
    "\n",
    "ax.set_xlim3d(-2, 2)#Since the animations doesn't modify frame, one has to\n",
    "ax.set_ylim3d(-2, 2)# adjust manually the graphic's limits.\n",
    "ax.set_zlim3d(-2, 2)\n",
    "\n",
    "lines, = ax.plot([],[], \"r-\")\n",
    "line_ani = animation.FuncAnimation(fig, anima, 100, fargs=(data, lines),\n",
    "    interval=100, blit=True)\n",
    "plt.show()"
   ]
  },
  {
   "cell_type": "markdown",
   "metadata": {},
   "source": [
    "Notice that _fargs_ receives the data and the tuple where are saved the graphics. The first $100$ represents the number of frames, (equals to `len(t)`), to reproduce all the graphic. Interval is the time in deciseconds to draw all animation and blit is a boolean that controls whether blitting is used to optimize drawing.\n",
    "\n",
    "Let's see a last example."
   ]
  },
  {
   "cell_type": "code",
   "execution_count": null,
   "metadata": {
    "collapsed": false
   },
   "outputs": [],
   "source": [
    "def just_a_point(num,data,line):\n",
    "    line.set_data(data[0][num], data[1][num])\n",
    "    line.set_3d_properties(data[2][num])    \n",
    "    return line,\n",
    "\n",
    "def clear(line):\n",
    "    line.set_data([], [])\n",
    "    line.set_3d_properties([])    \n",
    "    return line,\n",
    "\n",
    "fig = plt.figure()\n",
    "ax = fig.add_subplot(111, projection='3d')\n",
    "t=np.linspace(-2*np.pi,2*np.pi,100)\n",
    "x=1+np.cos(t)\n",
    "y=np.sin(t)\n",
    "z=2*np.sin(t/2)\n",
    "data=np.vstack((x,y,z)) \n",
    "\n",
    "ax.set_xlim3d(-2, 2)\n",
    "ax.set_ylim3d(-2, 2)\n",
    "ax.set_zlim3d(-2, 2)\n",
    "\n",
    "lines, = ax.plot([],[], \"r-\")\n",
    "lines2, = ax.plot([],[], \"ro\")\n",
    "line_ani2 = animation.FuncAnimation(fig, just_a_point, 100, fargs=(data, lines2),\n",
    "                                   interval=100, blit=False, init_func=lambda: clear(lines2))\n",
    "line_ani = animation.FuncAnimation(fig, anima, 100, fargs=(data, lines),\n",
    "    interval=100, blit=False)\n",
    "\n",
    "plt.show()"
   ]
  },
  {
   "cell_type": "markdown",
   "metadata": {},
   "source": [
    "The function _justapoint_, instead of adding new graphics, saves the graphic of the executing frame; then, this function is perfect to make moving dots. The kwarg _initfunc_ receives the function that refresh the image, necessary to make a moving dot, without showing its path.\n",
    "\n",
    "Cool!"
   ]
  },
  {
   "cell_type": "markdown",
   "metadata": {},
   "source": [
    "### Surfaces ###\n",
    "The way to graphic surfaces in matplotlib is, first, express one variable in terms of the other two. That's all."
   ]
  },
  {
   "cell_type": "code",
   "execution_count": null,
   "metadata": {
    "collapsed": false
   },
   "outputs": [],
   "source": [
    "fig = plt.figure()\n",
    "ax = fig.add_subplot(111, projection='3d')\n",
    "x=np.linspace(-2,2)\n",
    "y=np.linspace(-2,2)\n",
    "X,Y=np.meshgrid(x,y) #You already know what makes this line\n",
    "ax.plot_surface(X,Y,(2+np.cos(np.pi*X))*np.sin(np.pi*Y))\n",
    "plt.show()"
   ]
  },
  {
   "cell_type": "markdown",
   "metadata": {},
   "source": [
    "* * *\n",
    "This information can be distributed freely with property credits."
   ]
  }
 ],
 "metadata": {
  "anaconda-cloud": {},
  "kernelspec": {
   "display_name": "Python [Root]",
   "language": "python",
   "name": "Python [Root]"
  },
  "language_info": {
   "codemirror_mode": {
    "name": "ipython",
    "version": 3
   },
   "file_extension": ".py",
   "mimetype": "text/x-python",
   "name": "python",
   "nbconvert_exporter": "python",
   "pygments_lexer": "ipython3",
   "version": "3.5.2"
  },
  "nbpresent": {
   "slides": {},
   "themes": {
    "default": "14a95739-db89-4724-addf-2269f90ed918",
    "theme": {
     "14a95739-db89-4724-addf-2269f90ed918": {
      "backgrounds": {
       "backgroundColor": {
        "background-color": "backgroundColor",
        "id": "backgroundColor"
       }
      },
      "id": "14a95739-db89-4724-addf-2269f90ed918",
      "palette": {
       "backgroundColor": {
        "id": "backgroundColor",
        "rgb": [
         34,
         34,
         34
        ]
       },
       "headingColor": {
        "id": "headingColor",
        "rgb": [
         238,
         238,
         238
        ]
       },
       "linkColor": {
        "id": "linkColor",
        "rgb": [
         170,
         34,
         51
        ]
       },
       "mainColor": {
        "id": "mainColor",
        "rgb": [
         238,
         238,
         238
        ]
       }
      },
      "rules": {
       "a": {
        "color": "linkColor"
       },
       "h1": {
        "color": "headingColor",
        "font-family": "Ubuntu",
        "font-size": 7
       },
       "h2": {
        "color": "headingColor",
        "font-family": "Ubuntu",
        "font-size": 5
       },
       "h3": {
        "color": "headingColor",
        "font-family": "Ubuntu",
        "font-size": 3.75
       },
       "h4": {
        "color": "headingColor",
        "font-family": "Ubuntu",
        "font-size": 3
       },
       "h5": {
        "color": "headingColor",
        "font-family": "Ubuntu"
       },
       "h6": {
        "color": "headingColor",
        "font-family": "Ubuntu"
       },
       "h7": {
        "color": "headingColor",
        "font-family": "Ubuntu"
       },
       "li": {
        "color": "mainColor",
        "font-family": "Ubuntu",
        "font-size": 5
       },
       "p": {
        "color": "mainColor",
        "font-family": "Ubuntu",
        "font-size": 5
       }
      },
      "text-base": {
       "color": "mainColor",
       "font-family": "Ubuntu",
       "font-size": 5
      }
     }
    }
   }
  }
 },
 "nbformat": 4,
 "nbformat_minor": 0
}
