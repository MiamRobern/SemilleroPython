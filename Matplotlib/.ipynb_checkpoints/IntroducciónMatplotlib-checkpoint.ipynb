{
 "cells": [
  {
   "cell_type": "markdown",
   "metadata": {},
   "source": [
    "# Matplotlib #\n",
    "Para entender a cabalidad ciertas cosas de **Numpy**, hemos de profundizar un poco en la librería de Python dedicada al trabajo con gráficas, **Matplotlib**. Dicha librería está especializada en gráficas interactivas en 2D y 3D; entre otras cosas varias."
   ]
  },
  {
   "cell_type": "code",
   "execution_count": null,
   "metadata": {
    "collapsed": true
   },
   "outputs": [],
   "source": [
    "import matplotlib.pyplot as plt #Convención"
   ]
  },
  {
   "cell_type": "code",
   "execution_count": null,
   "metadata": {
    "collapsed": true
   },
   "outputs": [],
   "source": [
    "import numpy as np"
   ]
  },
  {
   "cell_type": "markdown",
   "metadata": {},
   "source": [
    "A continuación se mostrará la manera más sencilla de realizar una gráfica."
   ]
  },
  {
   "cell_type": "code",
   "execution_count": null,
   "metadata": {
    "collapsed": false
   },
   "outputs": [],
   "source": [
    "%matplotlib inline \n",
    "#Función \"mágica\" que permite dibujar dentro de Ipython Notebook"
   ]
  },
  {
   "cell_type": "code",
   "execution_count": null,
   "metadata": {
    "collapsed": false
   },
   "outputs": [],
   "source": [
    "a=np.linspace(0,2*np.pi,500) #Supongo que recordará qué hace ésto\n",
    "b=np.sin(a) #Así como ésto\n",
    "plt.plot(a,b)"
   ]
  },
  {
   "cell_type": "markdown",
   "metadata": {},
   "source": [
    "Podemos cambiar la visualización de la gráfica con los siguientes parámetros (_arguments_ y _keyword arguments_)"
   ]
  },
  {
   "cell_type": "code",
   "execution_count": null,
   "metadata": {
    "collapsed": false
   },
   "outputs": [],
   "source": [
    "plt.plot(a,b,color=\"green\", linewidth=5, \n",
    "     marker=\"o\", markerfacecolor=\"b\", linestyle=\"--\", alpha=.5)\n",
    "#No hace falta saber mucho inglés para saber el funcionamiento de\n",
    "#los argumentos por teclado que tiene este método."
   ]
  },
  {
   "cell_type": "markdown",
   "metadata": {},
   "source": [
    "Es posible crear varios gráficos en el mismo cuadro (**Canvas**)"
   ]
  },
  {
   "cell_type": "code",
   "execution_count": null,
   "metadata": {
    "collapsed": false
   },
   "outputs": [],
   "source": [
    "fig, axes=plt.subplots(1,3,figsize=(15,7),sharey=True) #(filas, columnas,figsize).\n",
    "#figsize recibe una tupla con las dimensiones de la figura a realizar (en pulgadas).\n",
    "#sharey es para que todas las figuras compartan el eje y\n",
    "axes[0].plot(a,np.sin(a))\n",
    "axes[1].plot(a,np.sin(2*a))\n",
    "axes[2].plot(a,np.sin(3*a))\n",
    "fig.subplots_adjust(wspace=0.2) #Juegue con este parámetro "
   ]
  },
  {
   "cell_type": "markdown",
   "metadata": {},
   "source": [
    "## Muchas gráficas aún más personalizadas ##"
   ]
  },
  {
   "cell_type": "code",
   "execution_count": null,
   "metadata": {
    "collapsed": true
   },
   "outputs": [],
   "source": [
    "from matplotlib.gridspec import GridSpec"
   ]
  },
  {
   "cell_type": "code",
   "execution_count": null,
   "metadata": {
    "collapsed": false
   },
   "outputs": [],
   "source": [
    "gs = GridSpec(3,3)\n",
    "\n",
    "plt.subplot(gs[0,:]) #Note el cáracter matricial de gs\n",
    "plt.plot(a, np.e**a)\n",
    "\n",
    "plt.subplot(gs[1,0])\n",
    "plt.plot(-a, np.e**a)\n",
    "\n",
    "plt.subplot(gs[1,1])\n",
    "plt.plot(a, -np.e**a)\n",
    "\n",
    "plt.subplot(gs[2,:2])\n",
    "plt.plot(-a, -np.e**a)\n",
    "\n",
    "plt.subplot(gs[1:,2])\n",
    "plt.plot(a, np.e**a)\n"
   ]
  },
  {
   "cell_type": "markdown",
   "metadata": {
    "collapsed": true
   },
   "source": [
    "## Histogramas ##\n",
    "**Matplotlib** posee una herramienta útil para hacer automáticamente histogramas. A continuación se presenta un ejemplo tomado de [aquí](https://plot.ly/matplotlib/histograms/)."
   ]
  },
  {
   "cell_type": "code",
   "execution_count": null,
   "metadata": {
    "collapsed": false
   },
   "outputs": [],
   "source": [
    "#La explicación de todo esto está abajo\n",
    "gaussian_numbers = np.random.randn(10000) \n",
    "bins = np.linspace(-10, 10, 100)\n",
    "plt.hist(gaussian_numbers, bins)\n",
    "plt.text(5,700,\"Hola c:\") #Debía enseñarles ésto en algún momento\n",
    "plt.title(\"Gaussian Histogram\")\n",
    "plt.xlabel(\"Value\")\n",
    "plt.ylabel(\"Frequency\")"
   ]
  },
  {
   "cell_type": "markdown",
   "metadata": {},
   "source": [
    "### Inciso de la distribución de Gauss y explicación del programa anterior ###\n",
    "La línea \n",
    "```python\n",
    "gaussian_numbers = np.random.randn(10000)\n",
    "```\n",
    "genera números aleatorios con una distribución normal $X:=N(0,1)$. $X$ representa una variable aleatoria real continua, $0=\\mu$ es el valor esperado (media) y $1=\\sigma^2$ es el segundo momento central alrededor del promedio (varianza).\n",
    "\n",
    "Considere ahora el siguiente teorema,\n",
    "\n",
    "**Teorema:** Sea $X$ una variable aleatoria absolutamente continua (real) con función de densidad $f_X(x)$. Si $h$ es estrictamente monótona y diferenciable, entonces la función de densidad de la variable $Y:=h(X)$ está dada por\n",
    "\n",
    "$$f_Y(y) =\n",
    "\\left\\{\n",
    "\t\\begin{array}{ll}\n",
    "\t\tf_X(h^{-1}(y))\\bigl\\lvert\\dfrac{d}{dy}h^{-1}(y)\\bigl\\lvert  & \\mbox{if } y=h(x)\\ para\\ algún\\ x \\\\\n",
    "\t\t0 & \\mbox{if } y\\neq h(x)\\ para\\ todo\\ x\n",
    "\t\\end{array}\n",
    "\\right.$$\n",
    "\n",
    "\n",
    "Si está interesado en la demostración, la puede encontrar en _Introduction to probability and stochastic processes with applications_, escrito por Liliana Blanco, Arunachalam y Dharmaraja. También podemos discutirla directamente.\n",
    "\n",
    "La enunciación del teorema anterior es necesaria para mostrar que si se tiene una distribución gaussiana del tipo $N:=(\\mu,\\sigma^2)$, al hacer el cambio de variable aleatoria a $Y:=\\dfrac{X-u}{\\sigma}$, ésta tiene una distribución normal. Debería de intentar hacer la demostración, pues es sencilla.\n",
    "\n",
    "\n",
    "Así, evidentemente, usted puede llegar a la conclusión de que, con el comando `gaussian_numbers = np.random.randn(10000)` se puede construir cualquier tipo de distribución gaussiana haciendo la operación $gaussian\\_numbers\\cdot \\sigma+\\mu$. \n",
    "\n",
    "### Continuemos con el código ###\n",
    "```python\n",
    "bins = np.linspace(-10, 10, 100)\n",
    "```\n",
    "Esta línea sirve para seleccionar la partición que deseamos para seleccionar las frecuencias, es decir, los intervalos para contar las repeticiones. Las líneas que siguen las dejo a comprensión del lector."
   ]
  },
  {
   "cell_type": "markdown",
   "metadata": {},
   "source": [
    "* * *\n",
    "Dejemos para después las gráficas log y semi-log, el análisis de imágenes, las gráficas bonitas y/o en 3D, las gráficas con error, etc. Vimos esto antes de finalizar **Numpy** por la acertada consideración del profesor Arredondo, quién planteó la necesidad de conocer las herramientas para graficar con el fin de comprender mejor algunos conceptos.\n",
    "\n",
    "Claro está, podemos saltarnos ciertos temas de álgebra lineal y encriptación en **Numpy**, para lanzarnos de lleno a **Matplotlib**, con el fin de hacer lo que desea el profesor Maluendas. Me comentan :D "
   ]
  },
  {
   "cell_type": "markdown",
   "metadata": {},
   "source": [
    "* * *\n",
    "Los temas que se encuentran en este notebook están basados en el curso de Alejandro Cárdenas-Avendaño de Python, 2015."
   ]
  },
  {
   "cell_type": "markdown",
   "metadata": {},
   "source": [
    "* * *\n",
    "Esta información puede distribuirse libremente."
   ]
  }
 ],
 "metadata": {
  "anaconda-cloud": {},
  "kernelspec": {
   "display_name": "Python [Root]",
   "language": "python",
   "name": "Python [Root]"
  },
  "language_info": {
   "codemirror_mode": {
    "name": "ipython",
    "version": 3
   },
   "file_extension": ".py",
   "mimetype": "text/x-python",
   "name": "python",
   "nbconvert_exporter": "python",
   "pygments_lexer": "ipython3",
   "version": "3.5.2"
  }
 },
 "nbformat": 4,
 "nbformat_minor": 0
}
