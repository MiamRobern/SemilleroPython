{
 "cells": [
  {
   "cell_type": "markdown",
   "metadata": {},
   "source": [
    "# Ejercicios #\n",
    "Si tienen alguna inquietud, respecto a cualquier cosa, no duden en comentármela. Quedo atento."
   ]
  },
  {
   "cell_type": "markdown",
   "metadata": {},
   "source": [
    "1) En la Konrad Lorenz Fundación Universitaria, se realizó una prueba para ver qué tanto sabían los matemáticos de semestres avanzados. Para ello, se les preguntaron cosas sencillas (por ejemplo, enunciar qué es una función inyectiva). Los resultados concuerdan con una distribución gaussiana $X:=N(8,16)$, siendo $X$ la variable aleatoria que simboliza las respuestas correctas. Calcule la probabilidad de que un estudiante haya tenido entre n y m preguntas bien ($n<=m$), donde usted debe poder variar n y m a satisfacción.\n",
    "\n",
    "Para ello, haga un sample data que corresponda a esta distribución, aproxime un polinomio e integre por sumas de Riemman.\n",
    "    Nota: Sé que no es la mejor manera de hacer ésto, pero es con fines didácticos."
   ]
  },
  {
   "cell_type": "code",
   "execution_count": null,
   "metadata": {
    "collapsed": true
   },
   "outputs": [],
   "source": []
  },
  {
   "cell_type": "markdown",
   "metadata": {},
   "source": [
    "2) Dibuje el histograma correspondiente al punto anterior."
   ]
  },
  {
   "cell_type": "code",
   "execution_count": null,
   "metadata": {
    "collapsed": true
   },
   "outputs": [],
   "source": []
  },
  {
   "cell_type": "markdown",
   "metadata": {},
   "source": [
    "3) Dibuje la campana de Gauss."
   ]
  },
  {
   "cell_type": "code",
   "execution_count": null,
   "metadata": {
    "collapsed": true
   },
   "outputs": [],
   "source": []
  },
  {
   "cell_type": "markdown",
   "metadata": {},
   "source": [
    "4) Dibuje la campana de Gauss (con su respectiva ecuación) y el histograma en el mismo cuadro."
   ]
  },
  {
   "cell_type": "code",
   "execution_count": null,
   "metadata": {
    "collapsed": true
   },
   "outputs": [],
   "source": []
  },
  {
   "cell_type": "markdown",
   "metadata": {},
   "source": [
    "5) Con la campana de Gauss, vuelva a integrar por sumas de Riemman y determine qué tan lejos está su respuesta del primer punto con la de éste. (Debería usar la misma función del punto 1 con una levísima adaptación ¿no?)"
   ]
  },
  {
   "cell_type": "code",
   "execution_count": null,
   "metadata": {
    "collapsed": true
   },
   "outputs": [],
   "source": []
  }
 ],
 "metadata": {
  "anaconda-cloud": {},
  "kernelspec": {
   "display_name": "Python [Root]",
   "language": "python",
   "name": "Python [Root]"
  },
  "language_info": {
   "codemirror_mode": {
    "name": "ipython",
    "version": 3
   },
   "file_extension": ".py",
   "mimetype": "text/x-python",
   "name": "python",
   "nbconvert_exporter": "python",
   "pygments_lexer": "ipython3",
   "version": "3.5.2"
  }
 },
 "nbformat": 4,
 "nbformat_minor": 0
}
